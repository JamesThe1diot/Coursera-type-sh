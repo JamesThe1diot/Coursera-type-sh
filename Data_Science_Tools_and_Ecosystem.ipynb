{
 "cells": [
  {
   "cell_type": "markdown",
   "id": "226e066c-a335-4dad-bf12-525b0d1c5f46",
   "metadata": {},
   "source": [
    "# Data Science Tools and Ecosystem"
   ]
  },
  {
   "cell_type": "markdown",
   "id": "8f29f9bc-c300-4a3f-a7cf-d4a2bd3af7dd",
   "metadata": {},
   "source": [
    "## Introduction\n",
    "In this notebook, we summarize key tools and libraries used by data scientists. \n",
    "We will also perform a few basic arithmetic operations using Python."
   ]
  },
  {
   "cell_type": "markdown",
   "id": "4f02a52c-85e6-438a-8701-076538adabc1",
   "metadata": {},
   "source": [
    "## Data Science Languages\n",
    "Some of the popular languages that Data Scientists use are:\n",
    "1. Python  \n",
    "2. R  \n",
    "3. SQL  \n",
    "4. Julia  \n",
    "5. Scala"
   ]
  },
  {
   "cell_type": "markdown",
   "id": "f9fa1863-a2b4-46bc-b77f-9ca1d42ff329",
   "metadata": {},
   "source": [
    "## Data Science Libraries\n",
    "Some of the commonly used libraries used by Data Scientists include:\n",
    "1. Pandas  \n",
    "2. NumPy  \n",
    "3. Matplotlib  \n",
    "4. Scikit-learn  \n",
    "5. TensorFlow  \n",
    "6. ggplot2\n"
   ]
  },
  {
   "cell_type": "markdown",
   "id": "b7650e0d-a321-4dd0-a6ad-11568f4be93a",
   "metadata": {},
   "source": [
    "## Data Science Tools\n",
    "\n",
    "| Tool            | Category            | Description                             |\n",
    "|-----------------|--------------------|-----------------------------------------|\n",
    "| Jupyter Notebook | IDE / Notebook     | Interactive environment for code and text |\n",
    "| RStudio          | IDE / Notebook     | Popular IDE for R language              |\n",
    "| Apache Spark     | Big Data Framework | Distributed processing for large data   |\n"
   ]
  },
  {
   "cell_type": "markdown",
   "id": "95145ae6-382b-45cd-8baf-4af08061df1b",
   "metadata": {},
   "source": [
    "## Arithmetic Expression Examples\n",
    "Arithmetic expressions are used in Python to perform mathematical calculations such as addition, subtraction, multiplication, and division.\n",
    "\n",
    "Below are a few examples:\n",
    "- Addition: `+`\n",
    "- Subtraction: `-`\n",
    "- Multiplication: `*`\n",
    "- Division: `/`\n",
    "\n",
    "Let's look at an example in Python.\n"
   ]
  },
  {
   "cell_type": "code",
   "execution_count": 2,
   "id": "87093a41-61a2-4449-b98f-6b889e01e96b",
   "metadata": {
    "scrolled": true
   },
   "outputs": [
    {
     "data": {
      "text/plain": [
       "20"
      ]
     },
     "execution_count": 2,
     "metadata": {},
     "output_type": "execute_result"
    }
   ],
   "source": [
    "result = (5 * 2) + 10\n",
    "result"
   ]
  },
  {
   "cell_type": "code",
   "execution_count": 3,
   "id": "f593e767-9216-4eea-bf79-2e4cd8929c18",
   "metadata": {},
   "outputs": [
    {
     "data": {
      "text/plain": [
       "17"
      ]
     },
     "execution_count": 3,
     "metadata": {},
     "output_type": "execute_result"
    }
   ],
   "source": [
    "# This is a simple arithmetic expression to multiply then add numbers\n",
    "(3 * 4) + 5\n"
   ]
  },
  {
   "cell_type": "code",
   "execution_count": 4,
   "id": "059cf215-5400-4e17-80d1-e9df96ddbc59",
   "metadata": {},
   "outputs": [
    {
     "data": {
      "text/plain": [
       "3.3333333333333335"
      ]
     },
     "execution_count": 4,
     "metadata": {},
     "output_type": "execute_result"
    }
   ],
   "source": [
    "# This will convert 200 minutes to hours by dividing by 60\n",
    "minutes = 200\n",
    "hours = minutes / 60\n",
    "hours\n"
   ]
  },
  {
   "cell_type": "markdown",
   "id": "8483127d-16df-4fd2-95cb-9b757935c7bc",
   "metadata": {},
   "source": [
    "## Objectives\n",
    "In this notebook, you will learn to:\n",
    "- List popular languages for Data Science\n",
    "- Identify common Data Science libraries\n",
    "- Create tables using Markdown\n",
    "- Perform basic arithmetic operations in Python\n",
    "- Share your notebook using GitHub\n"
   ]
  },
  {
   "cell_type": "markdown",
   "id": "750dafff-2600-4588-afb1-b2123c5e07ee",
   "metadata": {},
   "source": [
    "## Author\n",
    "**Nguyen Tung Huy**\n"
   ]
  }
 ],
 "metadata": {
  "kernelspec": {
   "display_name": "Python [conda env:base] *",
   "language": "python",
   "name": "conda-base-py"
  },
  "language_info": {
   "codemirror_mode": {
    "name": "ipython",
    "version": 3
   },
   "file_extension": ".py",
   "mimetype": "text/x-python",
   "name": "python",
   "nbconvert_exporter": "python",
   "pygments_lexer": "ipython3",
   "version": "3.13.5"
  }
 },
 "nbformat": 4,
 "nbformat_minor": 5
}
